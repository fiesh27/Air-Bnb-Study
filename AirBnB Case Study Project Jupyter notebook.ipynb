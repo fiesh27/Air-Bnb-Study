{
 "cells": [
  {
   "cell_type": "markdown",
   "metadata": {},
   "source": [
    "# AirBnB NY Locations Data Case Study\n",
    "\n",
    "In this final project, you task will be to take the data provided and find evidance to answer the following questions.\n",
    "\n",
    "1. Which hosts are the busiest and why?\n",
    "2. How many neighborhood groups are available and which shows up the most?\n",
    "3. Are private rooms the most popular in manhattan?\n",
    "4. Which hosts are the busiest and based on their reviews?\n",
    "5. Which neighorhood group has the highest average price?\n",
    "6. Which neighborhood group has the highest total price?\n",
    "7. Which top 5 hosts have the highest total price?\n",
    "8. Who currently has no (zero) availability with a review count of 100 or more?\n",
    "9. What host has the highest total of prices and where are they located?\n",
    "10. When did Danielle from Queens last receive a review?\n",
    "\n",
    "You will be given **4 hours** to complete this assignment. \n",
    "**Be Advised** I will go dark for this intire assignment time period. That said, any questions that you would like to ask about the data, or the project **MUST** be asked before the time starts. Once the time has started, I can no longer give information.\n",
    "\n",
    "This is to similate what you will face when you are out in the wild. \n",
    "\n",
    "Happy Coding!"
   ]
  },
  {
   "cell_type": "code",
   "execution_count": 2,
   "metadata": {},
   "outputs": [],
   "source": [
    "import numpy as np\n",
    "import pandas as pd\n",
    "import matplotlib.pyplot as plt"
   ]
  },
  {
   "cell_type": "code",
   "execution_count": 3,
   "metadata": {
    "scrolled": true
   },
   "outputs": [
    {
     "data": {
      "text/plain": [
       "<bound method NDFrame.head of              id                                               name   host_id  \\\n",
       "0          2539                 Clean & quiet apt home by the park      2787   \n",
       "1          2595                              Skylit Midtown Castle      2845   \n",
       "2          3647                THE VILLAGE OF HARLEM....NEW YORK !      4632   \n",
       "3          3831                    Cozy Entire Floor of Brownstone      4869   \n",
       "4          5022   Entire Apt: Spacious Studio/Loft by central park      7192   \n",
       "...         ...                                                ...       ...   \n",
       "48890  36484665    Charming one bedroom - newly renovated rowhouse   8232441   \n",
       "48891  36485057      Affordable room in Bushwick/East Williamsburg   6570630   \n",
       "48892  36485431            Sunny Studio at Historical Neighborhood  23492952   \n",
       "48893  36485609               43rd St. Time Square-cozy single bed  30985759   \n",
       "48894  36487245  Trendy duplex in the very heart of Hell's Kitchen  68119814   \n",
       "\n",
       "           host_name neighbourhood_group       neighbourhood  latitude  \\\n",
       "0               John            Brooklyn          Kensington  40.64749   \n",
       "1           Jennifer           Manhattan             Midtown  40.75362   \n",
       "2          Elisabeth           Manhattan              Harlem  40.80902   \n",
       "3        LisaRoxanne            Brooklyn        Clinton Hill  40.68514   \n",
       "4              Laura           Manhattan         East Harlem  40.79851   \n",
       "...              ...                 ...                 ...       ...   \n",
       "48890        Sabrina            Brooklyn  Bedford-Stuyvesant  40.67853   \n",
       "48891        Marisol            Brooklyn            Bushwick  40.70184   \n",
       "48892  Ilgar & Aysel           Manhattan              Harlem  40.81475   \n",
       "48893            Taz           Manhattan      Hell's Kitchen  40.75751   \n",
       "48894     Christophe           Manhattan      Hell's Kitchen  40.76404   \n",
       "\n",
       "       longitude        room_type  price  minimum_nights  number_of_reviews  \\\n",
       "0      -73.97237     Private room    149               1                  9   \n",
       "1      -73.98377  Entire home/apt    225               1                 45   \n",
       "2      -73.94190     Private room    150               3                  0   \n",
       "3      -73.95976  Entire home/apt     89               1                270   \n",
       "4      -73.94399  Entire home/apt     80              10                  9   \n",
       "...          ...              ...    ...             ...                ...   \n",
       "48890  -73.94995     Private room     70               2                  0   \n",
       "48891  -73.93317     Private room     40               4                  0   \n",
       "48892  -73.94867  Entire home/apt    115              10                  0   \n",
       "48893  -73.99112      Shared room     55               1                  0   \n",
       "48894  -73.98933     Private room     90               7                  0   \n",
       "\n",
       "      last_review  reviews_per_month  calculated_host_listings_count  \\\n",
       "0      2018-10-19               0.21                               6   \n",
       "1      2019-05-21               0.38                               2   \n",
       "2             NaN                NaN                               1   \n",
       "3      2019-07-05               4.64                               1   \n",
       "4      2018-11-19               0.10                               1   \n",
       "...           ...                ...                             ...   \n",
       "48890         NaN                NaN                               2   \n",
       "48891         NaN                NaN                               2   \n",
       "48892         NaN                NaN                               1   \n",
       "48893         NaN                NaN                               6   \n",
       "48894         NaN                NaN                               1   \n",
       "\n",
       "       availability_365  \n",
       "0                   365  \n",
       "1                   355  \n",
       "2                   365  \n",
       "3                   194  \n",
       "4                     0  \n",
       "...                 ...  \n",
       "48890                 9  \n",
       "48891                36  \n",
       "48892                27  \n",
       "48893                 2  \n",
       "48894                23  \n",
       "\n",
       "[48895 rows x 16 columns]>"
      ]
     },
     "execution_count": 3,
     "metadata": {},
     "output_type": "execute_result"
    }
   ],
   "source": [
    "air_bnb = pd.read_csv('./AB_NYC_2019.csv')\n",
    "air_bnb.head\n"
   ]
  },
  {
   "cell_type": "code",
   "execution_count": 4,
   "metadata": {},
   "outputs": [
    {
     "name": "stdout",
     "output_type": "stream",
     "text": [
      "<class 'pandas.core.frame.DataFrame'>\n",
      "RangeIndex: 48895 entries, 0 to 48894\n",
      "Data columns (total 16 columns):\n",
      " #   Column                          Non-Null Count  Dtype  \n",
      "---  ------                          --------------  -----  \n",
      " 0   id                              48895 non-null  int64  \n",
      " 1   name                            48879 non-null  object \n",
      " 2   host_id                         48895 non-null  int64  \n",
      " 3   host_name                       48874 non-null  object \n",
      " 4   neighbourhood_group             48895 non-null  object \n",
      " 5   neighbourhood                   48895 non-null  object \n",
      " 6   latitude                        48895 non-null  float64\n",
      " 7   longitude                       48895 non-null  float64\n",
      " 8   room_type                       48895 non-null  object \n",
      " 9   price                           48895 non-null  int64  \n",
      " 10  minimum_nights                  48895 non-null  int64  \n",
      " 11  number_of_reviews               48895 non-null  int64  \n",
      " 12  last_review                     38843 non-null  object \n",
      " 13  reviews_per_month               38843 non-null  float64\n",
      " 14  calculated_host_listings_count  48895 non-null  int64  \n",
      " 15  availability_365                48895 non-null  int64  \n",
      "dtypes: float64(3), int64(7), object(6)\n",
      "memory usage: 6.0+ MB\n"
     ]
    }
   ],
   "source": [
    "air_bnb.info()"
   ]
  },
  {
   "cell_type": "code",
   "execution_count": 5,
   "metadata": {},
   "outputs": [
    {
     "data": {
      "text/plain": [
       "neighbourhood_group\n",
       "Manhattan        21661\n",
       "Brooklyn         20104\n",
       "Queens            5666\n",
       "Bronx             1091\n",
       "Staten Island      373\n",
       "Name: neighbourhood_group, dtype: int64"
      ]
     },
     "execution_count": 5,
     "metadata": {},
     "output_type": "execute_result"
    }
   ],
   "source": [
    "# How many neighborhood groups are available and which shows up the most?\n",
    "\n",
    "air_bnb.groupby('neighbourhood_group').neighbourhood_group.count().sort_values(ascending=False)\n",
    "\n"
   ]
  },
  {
   "cell_type": "code",
   "execution_count": 6,
   "metadata": {},
   "outputs": [
    {
     "data": {
      "text/plain": [
       "neighbourhood_group  room_type      \n",
       "Bronx                Entire home/apt      379\n",
       "                     Private room         652\n",
       "                     Shared room           60\n",
       "Brooklyn             Entire home/apt     9559\n",
       "                     Private room       10132\n",
       "                     Shared room          413\n",
       "Manhattan            Entire home/apt    13199\n",
       "                     Private room        7982\n",
       "                     Shared room          480\n",
       "Queens               Entire home/apt     2096\n",
       "                     Private room        3372\n",
       "                     Shared room          198\n",
       "Staten Island        Entire home/apt      176\n",
       "                     Private room         188\n",
       "                     Shared room            9\n",
       "Name: neighbourhood_group, dtype: int64"
      ]
     },
     "execution_count": 6,
     "metadata": {},
     "output_type": "execute_result"
    }
   ],
   "source": [
    "# Are private rooms the most popular in manhattan?\n",
    "air_bnb.groupby(['neighbourhood_group','room_type']).neighbourhood_group.count()\n",
    "\n",
    "#Private rooms are not the most popular. Entire home/apt are the most popular!"
   ]
  },
  {
   "cell_type": "code",
   "execution_count": 15,
   "metadata": {
    "scrolled": true
   },
   "outputs": [
    {
     "data": {
      "text/plain": [
       "host_name\n",
       "Michael    11081\n",
       "David       8103\n",
       "John        7223\n",
       "Jason       6522\n",
       "Alex        6204\n",
       "Chris       5028\n",
       "Anna        4799\n",
       "Eric        4733\n",
       "Daniel      4723\n",
       "Sarah       4579\n",
       "Name: number_of_reviews, dtype: int64"
      ]
     },
     "execution_count": 15,
     "metadata": {},
     "output_type": "execute_result"
    }
   ],
   "source": [
    "# Which hosts are the busiest and based on their reviews?\n",
    "\n",
    "air_bnb.groupby('host_name').number_of_reviews.sum().nlargest(10)"
   ]
  },
  {
   "cell_type": "code",
   "execution_count": 16,
   "metadata": {},
   "outputs": [
    {
     "data": {
      "text/plain": [
       "host_name\n",
       "David           508.61\n",
       "Michael         475.82\n",
       "Alex            443.44\n",
       "Sonder (NYC)    397.56\n",
       "John            321.02\n",
       "Maria           288.39\n",
       "Anna            229.99\n",
       "Andrew          199.35\n",
       "Jason           196.15\n",
       "Sam             190.27\n",
       "Name: reviews_per_month, dtype: float64"
      ]
     },
     "execution_count": 16,
     "metadata": {},
     "output_type": "execute_result"
    }
   ],
   "source": [
    "air_bnb.groupby('host_name').reviews_per_month.sum().nlargest(10)"
   ]
  },
  {
   "cell_type": "code",
   "execution_count": 18,
   "metadata": {},
   "outputs": [
    {
     "data": {
      "text/plain": [
       "neighbourhood_group\n",
       "Manhattan        196.875814\n",
       "Brooklyn         124.383207\n",
       "Staten Island    114.812332\n",
       "Queens            99.517649\n",
       "Bronx             87.496792\n",
       "Name: price, dtype: float64"
      ]
     },
     "execution_count": 18,
     "metadata": {},
     "output_type": "execute_result"
    }
   ],
   "source": [
    "#Which neighorhood group has the highest average price?\n",
    "air_bnb.groupby('neighbourhood_group').price.mean().sort_values(ascending=False)"
   ]
  },
  {
   "cell_type": "code",
   "execution_count": 21,
   "metadata": {},
   "outputs": [
    {
     "data": {
      "text/plain": [
       "neighbourhood_group\n",
       "Queens           10000\n",
       "Manhattan        10000\n",
       "Brooklyn         10000\n",
       "Staten Island     5000\n",
       "Bronx             2500\n",
       "Name: price, dtype: int64"
      ]
     },
     "execution_count": 21,
     "metadata": {},
     "output_type": "execute_result"
    }
   ],
   "source": [
    "# Which neighborhood group has the highest total price?\n",
    "air_bnb.groupby('neighbourhood_group').price.max().sort_values(ascending=False)"
   ]
  },
  {
   "cell_type": "code",
   "execution_count": 60,
   "metadata": {},
   "outputs": [
    {
     "data": {
      "text/plain": [
       "host_name\n",
       "Sonder (NYC)    82795\n",
       "Blueground      70331\n",
       "Michael         66895\n",
       "David           65844\n",
       "Alex            52563\n",
       "Name: price, dtype: int64"
      ]
     },
     "execution_count": 60,
     "metadata": {},
     "output_type": "execute_result"
    }
   ],
   "source": [
    "#Which top 5 hosts have the highest total price?\n",
    "air_bnb.groupby('host_name').price.sum().sort_values(ascending=False).nlargest(5)\n"
   ]
  },
  {
   "cell_type": "code",
   "execution_count": 37,
   "metadata": {},
   "outputs": [
    {
     "data": {
      "text/html": [
       "<div>\n",
       "<style scoped>\n",
       "    .dataframe tbody tr th:only-of-type {\n",
       "        vertical-align: middle;\n",
       "    }\n",
       "\n",
       "    .dataframe tbody tr th {\n",
       "        vertical-align: top;\n",
       "    }\n",
       "\n",
       "    .dataframe thead th {\n",
       "        text-align: right;\n",
       "    }\n",
       "</style>\n",
       "<table border=\"1\" class=\"dataframe\">\n",
       "  <thead>\n",
       "    <tr style=\"text-align: right;\">\n",
       "      <th></th>\n",
       "      <th>id</th>\n",
       "      <th>name</th>\n",
       "      <th>host_id</th>\n",
       "      <th>host_name</th>\n",
       "      <th>neighbourhood_group</th>\n",
       "      <th>neighbourhood</th>\n",
       "      <th>latitude</th>\n",
       "      <th>longitude</th>\n",
       "      <th>room_type</th>\n",
       "      <th>price</th>\n",
       "      <th>minimum_nights</th>\n",
       "      <th>number_of_reviews</th>\n",
       "      <th>last_review</th>\n",
       "      <th>reviews_per_month</th>\n",
       "      <th>calculated_host_listings_count</th>\n",
       "      <th>availability_365</th>\n",
       "    </tr>\n",
       "  </thead>\n",
       "  <tbody>\n",
       "    <tr>\n",
       "      <th>8</th>\n",
       "      <td>5203</td>\n",
       "      <td>Cozy Clean Guest Room - Family Apt</td>\n",
       "      <td>7490</td>\n",
       "      <td>MaryEllen</td>\n",
       "      <td>Manhattan</td>\n",
       "      <td>Upper West Side</td>\n",
       "      <td>40.80178</td>\n",
       "      <td>-73.96723</td>\n",
       "      <td>Private room</td>\n",
       "      <td>79</td>\n",
       "      <td>2</td>\n",
       "      <td>118</td>\n",
       "      <td>2017-07-21</td>\n",
       "      <td>0.99</td>\n",
       "      <td>1</td>\n",
       "      <td>0</td>\n",
       "    </tr>\n",
       "    <tr>\n",
       "      <th>94</th>\n",
       "      <td>20913</td>\n",
       "      <td>Charming 1 bed GR8 WBurg LOCATION!</td>\n",
       "      <td>79402</td>\n",
       "      <td>Christiana</td>\n",
       "      <td>Brooklyn</td>\n",
       "      <td>Williamsburg</td>\n",
       "      <td>40.70984</td>\n",
       "      <td>-73.95775</td>\n",
       "      <td>Entire home/apt</td>\n",
       "      <td>100</td>\n",
       "      <td>5</td>\n",
       "      <td>168</td>\n",
       "      <td>2018-07-22</td>\n",
       "      <td>1.57</td>\n",
       "      <td>1</td>\n",
       "      <td>0</td>\n",
       "    </tr>\n",
       "    <tr>\n",
       "      <th>132</th>\n",
       "      <td>30031</td>\n",
       "      <td>NYC artists’ loft with roof deck</td>\n",
       "      <td>129352</td>\n",
       "      <td>Sol</td>\n",
       "      <td>Brooklyn</td>\n",
       "      <td>Greenpoint</td>\n",
       "      <td>40.73494</td>\n",
       "      <td>-73.95030</td>\n",
       "      <td>Private room</td>\n",
       "      <td>50</td>\n",
       "      <td>3</td>\n",
       "      <td>193</td>\n",
       "      <td>2019-05-20</td>\n",
       "      <td>1.86</td>\n",
       "      <td>1</td>\n",
       "      <td>0</td>\n",
       "    </tr>\n",
       "    <tr>\n",
       "      <th>174</th>\n",
       "      <td>44221</td>\n",
       "      <td>Financial District Luxury Loft</td>\n",
       "      <td>193722</td>\n",
       "      <td>Coral</td>\n",
       "      <td>Manhattan</td>\n",
       "      <td>Financial District</td>\n",
       "      <td>40.70666</td>\n",
       "      <td>-74.01374</td>\n",
       "      <td>Entire home/apt</td>\n",
       "      <td>196</td>\n",
       "      <td>3</td>\n",
       "      <td>114</td>\n",
       "      <td>2019-06-20</td>\n",
       "      <td>1.06</td>\n",
       "      <td>1</td>\n",
       "      <td>0</td>\n",
       "    </tr>\n",
       "    <tr>\n",
       "      <th>180</th>\n",
       "      <td>45556</td>\n",
       "      <td>Fort Greene, Brooklyn: Center Bedroom</td>\n",
       "      <td>67778</td>\n",
       "      <td>Doug</td>\n",
       "      <td>Brooklyn</td>\n",
       "      <td>Fort Greene</td>\n",
       "      <td>40.68863</td>\n",
       "      <td>-73.97691</td>\n",
       "      <td>Private room</td>\n",
       "      <td>65</td>\n",
       "      <td>2</td>\n",
       "      <td>206</td>\n",
       "      <td>2019-06-30</td>\n",
       "      <td>1.92</td>\n",
       "      <td>2</td>\n",
       "      <td>0</td>\n",
       "    </tr>\n",
       "    <tr>\n",
       "      <th>...</th>\n",
       "      <td>...</td>\n",
       "      <td>...</td>\n",
       "      <td>...</td>\n",
       "      <td>...</td>\n",
       "      <td>...</td>\n",
       "      <td>...</td>\n",
       "      <td>...</td>\n",
       "      <td>...</td>\n",
       "      <td>...</td>\n",
       "      <td>...</td>\n",
       "      <td>...</td>\n",
       "      <td>...</td>\n",
       "      <td>...</td>\n",
       "      <td>...</td>\n",
       "      <td>...</td>\n",
       "      <td>...</td>\n",
       "    </tr>\n",
       "    <tr>\n",
       "      <th>29581</th>\n",
       "      <td>22705516</td>\n",
       "      <td>The Quietest Block in Manhattan :)</td>\n",
       "      <td>127740507</td>\n",
       "      <td>Kathleen</td>\n",
       "      <td>Manhattan</td>\n",
       "      <td>Harlem</td>\n",
       "      <td>40.83102</td>\n",
       "      <td>-73.94181</td>\n",
       "      <td>Private room</td>\n",
       "      <td>65</td>\n",
       "      <td>2</td>\n",
       "      <td>103</td>\n",
       "      <td>2019-07-07</td>\n",
       "      <td>5.89</td>\n",
       "      <td>2</td>\n",
       "      <td>0</td>\n",
       "    </tr>\n",
       "    <tr>\n",
       "      <th>30461</th>\n",
       "      <td>23574142</td>\n",
       "      <td>queens get away!!</td>\n",
       "      <td>176185168</td>\n",
       "      <td>Janet</td>\n",
       "      <td>Queens</td>\n",
       "      <td>Laurelton</td>\n",
       "      <td>40.68209</td>\n",
       "      <td>-73.73662</td>\n",
       "      <td>Private room</td>\n",
       "      <td>65</td>\n",
       "      <td>1</td>\n",
       "      <td>119</td>\n",
       "      <td>2018-12-24</td>\n",
       "      <td>7.79</td>\n",
       "      <td>1</td>\n",
       "      <td>0</td>\n",
       "    </tr>\n",
       "    <tr>\n",
       "      <th>31250</th>\n",
       "      <td>24267706</td>\n",
       "      <td>entire sunshine of the spotless mind room</td>\n",
       "      <td>21074914</td>\n",
       "      <td>Albert</td>\n",
       "      <td>Brooklyn</td>\n",
       "      <td>Bedford-Stuyvesant</td>\n",
       "      <td>40.68234</td>\n",
       "      <td>-73.91318</td>\n",
       "      <td>Private room</td>\n",
       "      <td>49</td>\n",
       "      <td>1</td>\n",
       "      <td>102</td>\n",
       "      <td>2019-07-05</td>\n",
       "      <td>6.73</td>\n",
       "      <td>3</td>\n",
       "      <td>0</td>\n",
       "    </tr>\n",
       "    <tr>\n",
       "      <th>32670</th>\n",
       "      <td>25719044</td>\n",
       "      <td>COZY Room for Female Guests</td>\n",
       "      <td>40119874</td>\n",
       "      <td>Stephany</td>\n",
       "      <td>Brooklyn</td>\n",
       "      <td>Prospect-Lefferts Gardens</td>\n",
       "      <td>40.66242</td>\n",
       "      <td>-73.94417</td>\n",
       "      <td>Private room</td>\n",
       "      <td>48</td>\n",
       "      <td>1</td>\n",
       "      <td>131</td>\n",
       "      <td>2019-05-31</td>\n",
       "      <td>9.97</td>\n",
       "      <td>2</td>\n",
       "      <td>0</td>\n",
       "    </tr>\n",
       "    <tr>\n",
       "      <th>35014</th>\n",
       "      <td>27759146</td>\n",
       "      <td>Cozy corner near Empire State Building</td>\n",
       "      <td>209549523</td>\n",
       "      <td>Mariluz</td>\n",
       "      <td>Manhattan</td>\n",
       "      <td>Midtown</td>\n",
       "      <td>40.74858</td>\n",
       "      <td>-73.98341</td>\n",
       "      <td>Shared room</td>\n",
       "      <td>62</td>\n",
       "      <td>1</td>\n",
       "      <td>112</td>\n",
       "      <td>2019-06-13</td>\n",
       "      <td>10.77</td>\n",
       "      <td>3</td>\n",
       "      <td>0</td>\n",
       "    </tr>\n",
       "  </tbody>\n",
       "</table>\n",
       "<p>162 rows × 16 columns</p>\n",
       "</div>"
      ],
      "text/plain": [
       "             id                                       name    host_id  \\\n",
       "8          5203         Cozy Clean Guest Room - Family Apt       7490   \n",
       "94        20913         Charming 1 bed GR8 WBurg LOCATION!      79402   \n",
       "132       30031           NYC artists’ loft with roof deck     129352   \n",
       "174       44221             Financial District Luxury Loft     193722   \n",
       "180       45556      Fort Greene, Brooklyn: Center Bedroom      67778   \n",
       "...         ...                                        ...        ...   \n",
       "29581  22705516         The Quietest Block in Manhattan :)  127740507   \n",
       "30461  23574142                          queens get away!!  176185168   \n",
       "31250  24267706  entire sunshine of the spotless mind room   21074914   \n",
       "32670  25719044                COZY Room for Female Guests   40119874   \n",
       "35014  27759146     Cozy corner near Empire State Building  209549523   \n",
       "\n",
       "        host_name neighbourhood_group              neighbourhood  latitude  \\\n",
       "8       MaryEllen           Manhattan            Upper West Side  40.80178   \n",
       "94     Christiana            Brooklyn               Williamsburg  40.70984   \n",
       "132           Sol            Brooklyn                 Greenpoint  40.73494   \n",
       "174         Coral           Manhattan         Financial District  40.70666   \n",
       "180          Doug            Brooklyn                Fort Greene  40.68863   \n",
       "...           ...                 ...                        ...       ...   \n",
       "29581    Kathleen           Manhattan                     Harlem  40.83102   \n",
       "30461       Janet              Queens                  Laurelton  40.68209   \n",
       "31250      Albert            Brooklyn         Bedford-Stuyvesant  40.68234   \n",
       "32670    Stephany            Brooklyn  Prospect-Lefferts Gardens  40.66242   \n",
       "35014     Mariluz           Manhattan                    Midtown  40.74858   \n",
       "\n",
       "       longitude        room_type  price  minimum_nights  number_of_reviews  \\\n",
       "8      -73.96723     Private room     79               2                118   \n",
       "94     -73.95775  Entire home/apt    100               5                168   \n",
       "132    -73.95030     Private room     50               3                193   \n",
       "174    -74.01374  Entire home/apt    196               3                114   \n",
       "180    -73.97691     Private room     65               2                206   \n",
       "...          ...              ...    ...             ...                ...   \n",
       "29581  -73.94181     Private room     65               2                103   \n",
       "30461  -73.73662     Private room     65               1                119   \n",
       "31250  -73.91318     Private room     49               1                102   \n",
       "32670  -73.94417     Private room     48               1                131   \n",
       "35014  -73.98341      Shared room     62               1                112   \n",
       "\n",
       "      last_review  reviews_per_month  calculated_host_listings_count  \\\n",
       "8      2017-07-21               0.99                               1   \n",
       "94     2018-07-22               1.57                               1   \n",
       "132    2019-05-20               1.86                               1   \n",
       "174    2019-06-20               1.06                               1   \n",
       "180    2019-06-30               1.92                               2   \n",
       "...           ...                ...                             ...   \n",
       "29581  2019-07-07               5.89                               2   \n",
       "30461  2018-12-24               7.79                               1   \n",
       "31250  2019-07-05               6.73                               3   \n",
       "32670  2019-05-31               9.97                               2   \n",
       "35014  2019-06-13              10.77                               3   \n",
       "\n",
       "       availability_365  \n",
       "8                     0  \n",
       "94                    0  \n",
       "132                   0  \n",
       "174                   0  \n",
       "180                   0  \n",
       "...                 ...  \n",
       "29581                 0  \n",
       "30461                 0  \n",
       "31250                 0  \n",
       "32670                 0  \n",
       "35014                 0  \n",
       "\n",
       "[162 rows x 16 columns]"
      ]
     },
     "execution_count": 37,
     "metadata": {},
     "output_type": "execute_result"
    }
   ],
   "source": [
    "# Who currently has no (zero) availability with a review count of 100 or more?\n",
    "air_bnb.query(\"availability_365 == 0 and number_of_reviews >= 100\")\n"
   ]
  },
  {
   "cell_type": "code",
   "execution_count": 45,
   "metadata": {},
   "outputs": [
    {
     "data": {
      "text/plain": [
       "host_name     neighbourhood     \n",
       "Sonder (NYC)  Financial District    57738\n",
       "Red Awning    Midtown               35294\n",
       "Kevin         Chelsea               20003\n",
       "Jessica       Clinton Hill          15804\n",
       "Henry         Upper West Side       15000\n",
       "Name: price, dtype: int64"
      ]
     },
     "execution_count": 45,
     "metadata": {},
     "output_type": "execute_result"
    }
   ],
   "source": [
    "# What host has the highest total of prices and where are they located?\n",
    "\n",
    "air_bnb.groupby([\"host_name\", \"neighbourhood\"]).price.sum().nlargest(5)"
   ]
  },
  {
   "cell_type": "code",
   "execution_count": 49,
   "metadata": {},
   "outputs": [
    {
     "data": {
      "text/plain": [
       "22469    2019-07-08\n",
       "21517    2019-07-07\n",
       "22068    2019-07-06\n",
       "20403    2019-07-06\n",
       "7086     2019-07-03\n",
       "33861    2019-06-20\n",
       "27021    2018-01-02\n",
       "16349           NaN\n",
       "Name: last_review, dtype: object"
      ]
     },
     "execution_count": 49,
     "metadata": {},
     "output_type": "execute_result"
    }
   ],
   "source": [
    "# When did Danielle from Queens last receive a review?\n",
    "air_bnb.query(\"host_name == 'Danielle' and neighbourhood_group == 'Queens'\").last_review.sort_values(ascending=False)\n"
   ]
  },
  {
   "cell_type": "markdown",
   "metadata": {},
   "source": [
    "## Further Questions\n",
    "\n",
    "1. Which host has the most listings?"
   ]
  },
  {
   "cell_type": "code",
   "execution_count": 51,
   "metadata": {},
   "outputs": [
    {
     "data": {
      "text/plain": [
       "host_name\n",
       "Michael         417\n",
       "David           403\n",
       "Sonder (NYC)    327\n",
       "John            294\n",
       "Alex            279\n",
       "Blueground      232\n",
       "Sarah           227\n",
       "Daniel          226\n",
       "Jessica         205\n",
       "Maria           204\n",
       "Name: id, dtype: int64"
      ]
     },
     "execution_count": 51,
     "metadata": {},
     "output_type": "execute_result"
    }
   ],
   "source": [
    "air_bnb.groupby('host_name').id.count().nlargest(10)"
   ]
  },
  {
   "cell_type": "markdown",
   "metadata": {},
   "source": [
    "2. How many listings have completely open availability?"
   ]
  },
  {
   "cell_type": "code",
   "execution_count": 53,
   "metadata": {},
   "outputs": [
    {
     "data": {
      "text/plain": [
       "0      17533\n",
       "365     1295\n",
       "364      491\n",
       "1        408\n",
       "89       361\n",
       "       ...  \n",
       "195       26\n",
       "196       24\n",
       "183       24\n",
       "181       23\n",
       "202       20\n",
       "Name: availability_365, Length: 366, dtype: int64"
      ]
     },
     "execution_count": 53,
     "metadata": {},
     "output_type": "execute_result"
    }
   ],
   "source": [
    "air_bnb.availability_365.value_counts()"
   ]
  },
  {
   "cell_type": "markdown",
   "metadata": {},
   "source": [
    "3. What room_types have the highest review numbers?"
   ]
  },
  {
   "cell_type": "code",
   "execution_count": 59,
   "metadata": {},
   "outputs": [
    {
     "data": {
      "text/plain": [
       "room_type\n",
       "Entire home/apt    580403\n",
       "Private room       538346\n",
       "Shared room         19256\n",
       "Name: number_of_reviews, dtype: int64"
      ]
     },
     "execution_count": 59,
     "metadata": {},
     "output_type": "execute_result"
    }
   ],
   "source": [
    "air_bnb.groupby('room_type').number_of_reviews.sum()"
   ]
  },
  {
   "cell_type": "markdown",
   "metadata": {},
   "source": [
    "# Final Conclusion\n",
    "\n",
    "In this cell, write your final conclusion for each of the questions asked.\n",
    "\n",
    "Also, if you uncovered some more details that were not asked above, please discribe them here.\n",
    "\n",
    "-- Add your conclusion --"
   ]
  },
  {
   "cell_type": "markdown",
   "metadata": {},
   "source": [
    "### 1. There are 5 neighborhood groups with Manhatten showing up the most.\n",
    "2. Private rooms are not the most popular. Entire Homes/Apartments are the most popular.\n",
    "3. Micheal is the busiest host based on reviews total while David is the busiest based on reviews per month.\n",
    "4. Manhatten has the highest average price.\n",
    "5. Queens, Manhatten, and Brooklyn all have the highest total price.\n",
    "6. Sonder (NYC), Blueground, Micheal, David, and Alex are the top five with the highest price.\n",
    "7. There are 162 rows of zero availability.\n",
    "8. Sonder (NYC), Financial District, $57,738.\n",
    "9. Danielle received her last review August 7th, 2019.\n",
    "10. Micheal has the most listings.\n",
    "11. According to the data, there are 2 possible answers. Either 17533 or 1295 listings are completely available.\n",
    "12. Entire homes/Apartments have the most reviews."
   ]
  },
  {
   "cell_type": "code",
   "execution_count": null,
   "metadata": {},
   "outputs": [],
   "source": []
  }
 ],
 "metadata": {
  "kernelspec": {
   "display_name": "Python 3",
   "language": "python",
   "name": "python3"
  },
  "language_info": {
   "codemirror_mode": {
    "name": "ipython",
    "version": 3
   },
   "file_extension": ".py",
   "mimetype": "text/x-python",
   "name": "python",
   "nbconvert_exporter": "python",
   "pygments_lexer": "ipython3",
   "version": "3.8.3"
  }
 },
 "nbformat": 4,
 "nbformat_minor": 2
}
